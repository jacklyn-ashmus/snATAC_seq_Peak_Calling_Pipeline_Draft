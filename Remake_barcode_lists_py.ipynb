{
 "cells": [
  {
   "cell_type": "code",
   "execution_count": null,
   "id": "c9cc8067-d5e0-4172-b884-a8740a9e987e",
   "metadata": {},
   "outputs": [],
   "source": [
    "# nevermind. just see this nb: /nfs/lab/jnewsome/scripts/multiome_CoCl2/peakCalls/split_barcode_metadata_table_file_to_list_by_celltype-2023_04_FinalCelltype.ipynb\n"
   ]
  }
 ],
 "metadata": {
  "kernelspec": {
   "display_name": "Python 3 (ipykernel)",
   "language": "python",
   "name": "python3"
  },
  "language_info": {
   "codemirror_mode": {
    "name": "ipython",
    "version": 3
   },
   "file_extension": ".py",
   "mimetype": "text/x-python",
   "name": "python",
   "nbconvert_exporter": "python",
   "pygments_lexer": "ipython3",
   "version": "3.8.17"
  }
 },
 "nbformat": 4,
 "nbformat_minor": 5
}
